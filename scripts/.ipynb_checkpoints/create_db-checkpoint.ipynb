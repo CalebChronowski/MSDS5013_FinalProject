{
 "cells": [
  {
   "cell_type": "code",
   "execution_count": 1,
   "metadata": {},
   "outputs": [],
   "source": [
    "# dependencies\n",
    "import pandas as pd\n",
    "from pathlib import Path\n",
    "from sqlalchemy import create_engine"
   ]
  },
  {
   "cell_type": "code",
   "execution_count": 2,
   "metadata": {},
   "outputs": [],
   "source": [
    "# file locations\n",
    "boranPath = Path(\"../resources/boran.csv\")\n",
    "radanPath = Path(\"../resources/radan.csv\")\n",
    "deidentifyPath = Path(\"../resources/deidentify_list_cross_ref.csv\")"
   ]
  },
  {
   "cell_type": "code",
   "execution_count": 3,
   "metadata": {},
   "outputs": [
    {
     "name": "stdout",
     "output_type": "stream",
     "text": [
      "2020-09-18 14:42:59,687 INFO sqlalchemy.engine.base.Engine SELECT CAST('test plain returns' AS VARCHAR(60)) AS anon_1\n",
      "2020-09-18 14:42:59,689 INFO sqlalchemy.engine.base.Engine ()\n",
      "2020-09-18 14:42:59,690 INFO sqlalchemy.engine.base.Engine SELECT CAST('test unicode returns' AS VARCHAR(60)) AS anon_1\n",
      "2020-09-18 14:42:59,690 INFO sqlalchemy.engine.base.Engine ()\n"
     ]
    }
   ],
   "source": [
    "# connect to database\n",
    "engine = create_engine('sqlite:///../database/PlanetMedical.db', echo=True)\n",
    "conn = engine.connect()"
   ]
  },
  {
   "cell_type": "code",
   "execution_count": 4,
   "metadata": {},
   "outputs": [],
   "source": [
    "# read in data\n",
    "boran_df = pd.read_csv(boranPath)\n",
    "radan_df = pd.read_csv(radanPath)\n",
    "deidentify_df = pd.read_csv(deidentifyPath)"
   ]
  },
  {
   "cell_type": "code",
   "execution_count": 5,
   "metadata": {},
   "outputs": [
    {
     "name": "stdout",
     "output_type": "stream",
     "text": [
      "2020-09-18 14:43:10,598 INFO sqlalchemy.engine.base.Engine PRAGMA main.table_info(\"boran\")\n",
      "2020-09-18 14:43:10,599 INFO sqlalchemy.engine.base.Engine ()\n",
      "2020-09-18 14:43:10,600 INFO sqlalchemy.engine.base.Engine PRAGMA temp.table_info(\"boran\")\n",
      "2020-09-18 14:43:10,601 INFO sqlalchemy.engine.base.Engine ()\n",
      "2020-09-18 14:43:10,602 INFO sqlalchemy.engine.base.Engine \n",
      "CREATE TABLE boran (\n",
      "\t\"index\" BIGINT, \n",
      "\tpatient_id BIGINT, \n",
      "\tblood_pressure FLOAT, \n",
      "\texercise FLOAT, \n",
      "\tweight FLOAT, \n",
      "\tglucose FLOAT, \n",
      "\tbmi FLOAT, \n",
      "\tplanet_id BIGINT\n",
      ")\n",
      "\n",
      "\n",
      "2020-09-18 14:43:10,603 INFO sqlalchemy.engine.base.Engine ()\n",
      "2020-09-18 14:43:10,613 INFO sqlalchemy.engine.base.Engine COMMIT\n",
      "2020-09-18 14:43:10,614 INFO sqlalchemy.engine.base.Engine CREATE INDEX ix_boran_index ON boran (\"index\")\n",
      "2020-09-18 14:43:10,615 INFO sqlalchemy.engine.base.Engine ()\n",
      "2020-09-18 14:43:10,623 INFO sqlalchemy.engine.base.Engine COMMIT\n",
      "2020-09-18 14:43:10,626 INFO sqlalchemy.engine.base.Engine BEGIN (implicit)\n",
      "2020-09-18 14:43:10,627 INFO sqlalchemy.engine.base.Engine INSERT INTO boran (\"index\", patient_id, blood_pressure, exercise, weight, glucose, bmi, planet_id) VALUES (?, ?, ?, ?, ?, ?, ?, ?)\n",
      "2020-09-18 14:43:10,628 INFO sqlalchemy.engine.base.Engine ((0, 83944, 199.3786754272559, 143.2052394127308, 148.03630965897517, 125.2309595029977, 1.0453359987486022, 1), (1, 41989, 191.8531077765801, 102.54429495285221, 141.5887765213941, 119.80788972476921, 0.9888492943037684, 1), (2, 94365, 207.22660560860058, 36.44648205029367, 157.4992910809086, 131.7500887097457, 1.09559924203521, 1), (3, 93464, 203.44250814241641, 91.47601189936651, 152.87120612357617, 128.5861359293158, 1.0715692909921979, 1), (4, 57985, 194.23677443980168, 9.071700640962508, 145.5840706287164, 122.14146337274349, 1.0005785236788591, 1), (5, 16465, 208.57350152599912, 27.68127539647105, 158.9478567151441, 132.8135865552408, 1.104779426736802, 1), (6, 26813, 183.5184100926074, 32.495576357659985, 134.9074255742924, 113.9466070068749, 0.924839738275892, 1), (7, 80055, 180.5131311696182, 94.34536417949276, 130.89862088198308, 111.3287589096565, 0.9068069449058118, 1)  ... displaying 10 of 30 total bound parameter sets ...  (28, 49643, 209.97306934066899, 10.61160636451282, 160.59928199637181, 133.9647779587995, 1.11385727582651, 1), (29, 23115, 193.3845825850204, 17.73964636383264, 144.6102154221474, 121.450500238001, 0.9949510577937192, 1))\n",
      "2020-09-18 14:43:10,630 INFO sqlalchemy.engine.base.Engine COMMIT\n",
      "2020-09-18 14:43:10,639 INFO sqlalchemy.engine.base.Engine PRAGMA main.table_info(\"radan\")\n",
      "2020-09-18 14:43:10,641 INFO sqlalchemy.engine.base.Engine ()\n",
      "2020-09-18 14:43:10,642 INFO sqlalchemy.engine.base.Engine PRAGMA temp.table_info(\"radan\")\n",
      "2020-09-18 14:43:10,642 INFO sqlalchemy.engine.base.Engine ()\n",
      "2020-09-18 14:43:10,644 INFO sqlalchemy.engine.base.Engine \n",
      "CREATE TABLE radan (\n",
      "\t\"index\" BIGINT, \n",
      "\tpatient_id BIGINT, \n",
      "\tblood_pressure FLOAT, \n",
      "\texercise FLOAT, \n",
      "\tweight FLOAT, \n",
      "\tglucose FLOAT, \n",
      "\tbmi FLOAT, \n",
      "\tplanet_id BIGINT\n",
      ")\n",
      "\n",
      "\n",
      "2020-09-18 14:43:10,645 INFO sqlalchemy.engine.base.Engine ()\n",
      "2020-09-18 14:43:10,654 INFO sqlalchemy.engine.base.Engine COMMIT\n",
      "2020-09-18 14:43:10,654 INFO sqlalchemy.engine.base.Engine CREATE INDEX ix_radan_index ON radan (\"index\")\n",
      "2020-09-18 14:43:10,655 INFO sqlalchemy.engine.base.Engine ()\n",
      "2020-09-18 14:43:10,664 INFO sqlalchemy.engine.base.Engine COMMIT\n",
      "2020-09-18 14:43:10,666 INFO sqlalchemy.engine.base.Engine BEGIN (implicit)\n",
      "2020-09-18 14:43:10,668 INFO sqlalchemy.engine.base.Engine INSERT INTO radan (\"index\", patient_id, blood_pressure, exercise, weight, glucose, bmi, planet_id) VALUES (?, ?, ?, ?, ?, ?, ?, ?)\n",
      "2020-09-18 14:43:10,669 INFO sqlalchemy.engine.base.Engine ((0, 59477, 100.8503627383157, 166.2640312909193, 74.04046889881188, 73.50954656701538, 0.9541490700637366, 2), (1, 33906, 103.9728732324547, 27.499811610678712, 83.31118233206458, 79.26910010956162, 1.0067490891735458, 2), (2, 15997, 105.26132497285641, 69.05487790417085, 83.56958587135469, 80.14953086132279, 1.032714839043871, 2), (3, 39588, 100.90238594809809, 47.17046772388465, 78.41053415003124, 75.37371108750625, 0.9499893485968696, 2), (4, 8499, 104.6353669752499, 75.52558886327327, 82.48170309067204, 79.31814990414159, 1.021249752353679, 2), (5, 49144, 104.8333307222352, 22.275518838565787, 84.67411439019867, 80.35636148461063, 1.022667569989208, 2), (6, 95063, 104.9951294578826, 11.550899475424552, 85.28207537220875, 80.70831671525944, 1.025240726356536, 2), (7, 16876, 106.5904487462266, 61.841075345248136, 85.64396708999513, 81.81603105179715, 1.057340570004579, 2)  ... displaying 10 of 30 total bound parameter sets ...  (28, 40119, 103.8279489465587, 67.84329975568379, 81.65706330124664, 78.48845274746628, 1.005769808327623, 2), (29, 15337, 106.77678174416599, 112.96226703073499, 84.0528891384883, 81.26031645775491, 1.0630410639647059, 2))\n",
      "2020-09-18 14:43:10,671 INFO sqlalchemy.engine.base.Engine COMMIT\n",
      "2020-09-18 14:43:10,680 INFO sqlalchemy.engine.base.Engine PRAGMA main.table_info(\"deidentify\")\n",
      "2020-09-18 14:43:10,681 INFO sqlalchemy.engine.base.Engine ()\n",
      "2020-09-18 14:43:10,682 INFO sqlalchemy.engine.base.Engine PRAGMA temp.table_info(\"deidentify\")\n",
      "2020-09-18 14:43:10,683 INFO sqlalchemy.engine.base.Engine ()\n",
      "2020-09-18 14:43:10,684 INFO sqlalchemy.engine.base.Engine \n",
      "CREATE TABLE deidentify (\n",
      "\t\"index\" BIGINT, \n",
      "\tpatient_id BIGINT, \n",
      "\tage FLOAT\n",
      ")\n",
      "\n",
      "\n",
      "2020-09-18 14:43:10,686 INFO sqlalchemy.engine.base.Engine ()\n",
      "2020-09-18 14:43:10,694 INFO sqlalchemy.engine.base.Engine COMMIT\n",
      "2020-09-18 14:43:10,695 INFO sqlalchemy.engine.base.Engine CREATE INDEX ix_deidentify_index ON deidentify (\"index\")\n",
      "2020-09-18 14:43:10,695 INFO sqlalchemy.engine.base.Engine ()\n",
      "2020-09-18 14:43:10,703 INFO sqlalchemy.engine.base.Engine COMMIT\n",
      "2020-09-18 14:43:10,705 INFO sqlalchemy.engine.base.Engine BEGIN (implicit)\n",
      "2020-09-18 14:43:10,706 INFO sqlalchemy.engine.base.Engine INSERT INTO deidentify (\"index\", patient_id, age) VALUES (?, ?, ?)\n",
      "2020-09-18 14:43:10,707 INFO sqlalchemy.engine.base.Engine ((0, 41989, 76.95746159793326), (1, 52846, 80.07649474441595), (2, 15997, 86.50820751374539), (3, 8248, 74.24296476638824), (4, 83944, 86.05542741715031), (5, 42695, 78.0583128077948), (6, 8495, 79.98288192408594), (7, 89103, 75.9374579990859)  ... displaying 10 of 60 total bound parameter sets ...  (58, 5231, 75.25476811590492), (59, 84204, 93.756735919252))\n",
      "2020-09-18 14:43:10,709 INFO sqlalchemy.engine.base.Engine COMMIT\n",
      "Database successfully created\n"
     ]
    }
   ],
   "source": [
    "# Write data to SQL\n",
    "# Pandas will automatically define the schema\n",
    "boran_df.to_sql(\"boran\", conn, if_exists='replace')\n",
    "radan_df.to_sql(\"radan\", conn, if_exists='replace')\n",
    "deidentify_df.to_sql(\"deidentify\", conn, if_exists='replace')\n",
    "print(\"Database successfully created\")\n",
    "engine.dispose()"
   ]
  }
 ],
 "metadata": {
  "kernelspec": {
   "display_name": "Python 3",
   "language": "python",
   "name": "python3"
  },
  "language_info": {
   "codemirror_mode": {
    "name": "ipython",
    "version": 3
   },
   "file_extension": ".py",
   "mimetype": "text/x-python",
   "name": "python",
   "nbconvert_exporter": "python",
   "pygments_lexer": "ipython3",
   "version": "3.8.3"
  }
 },
 "nbformat": 4,
 "nbformat_minor": 4
}

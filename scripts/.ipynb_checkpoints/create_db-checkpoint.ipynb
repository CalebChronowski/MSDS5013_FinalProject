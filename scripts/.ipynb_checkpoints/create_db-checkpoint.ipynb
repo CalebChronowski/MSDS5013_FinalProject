{
 "cells": [
  {
   "cell_type": "markdown",
   "metadata": {},
   "source": [
    "# SQL Alchemy demo"
   ]
  },
  {
   "cell_type": "code",
   "execution_count": 1,
   "metadata": {},
   "outputs": [],
   "source": [
    "# dependencies\n",
    "import pandas as pd\n",
    "from pathlib import Path\n",
    "from sqlalchemy import create_engine"
   ]
  },
  {
   "cell_type": "code",
   "execution_count": 2,
   "metadata": {},
   "outputs": [],
   "source": [
    "# file locations\n",
    "boranPath = Path(\"../resources/boran.csv\")\n",
    "radanPath = Path(\"../resources/radan.csv\")\n",
    "deidentifyPath = Path(\"../resources/deidentify_list_cross_ref.csv\")"
   ]
  },
  {
   "cell_type": "markdown",
   "metadata": {},
   "source": [
    "### Creating a database\n",
    "This is how to create a database and connect to it. `create_engine()` will make the database if it does not exist or it can also be used to connect to pre-existing databases. To connect to the database simply call the `.connect()` method.\n",
    "\n",
    "To see the communication between this notebook and the database, you can change `echo=Flase` to `echo=True`. It's great for troubleshooting, but pretty cluttered. I always leave it on while I'm writing the code and then turn it off once I know it works."
   ]
  },
  {
   "cell_type": "code",
   "execution_count": 3,
   "metadata": {},
   "outputs": [],
   "source": [
    "# connect to database\n",
    "engine = create_engine('sqlite:///../database/PlanetMedicalTest.db', echo=False)\n",
    "conn = engine.connect()"
   ]
  },
  {
   "cell_type": "code",
   "execution_count": 4,
   "metadata": {},
   "outputs": [],
   "source": [
    "# read in data\n",
    "boran_df = pd.read_csv(boranPath)\n",
    "radan_df = pd.read_csv(radanPath)\n",
    "deidentify_df = pd.read_csv(deidentifyPath)"
   ]
  },
  {
   "cell_type": "markdown",
   "metadata": {},
   "source": [
    "### A note on Pandas and SQLite\n",
    "\n",
    "Pandas will automatically define the schema, but its default settings lead to bloated databases. It uses BIGINT for binary columns, and you can't specify which attributes are primary or foreign keys. You actually can't specify anything at all about the schema when you use `pd.DataFrame.to_sql()`. The upside is, it is super easy and quick.\n",
    "\n",
    "Most SQL servers would allow you to modify the schema after creating the tables and inserting data into them. Unfortunately SQLite is one of the types of SQL that won't allow you to do so. It's not an issue for this application, but if it were an issue, I really like PostgreSQL. It's free, feature rich and reliable. And it has DBMS software program called pgadmin that has a friendly GUI.\n",
    "\n",
    "The work-around for SQLite would be to execute raw SQL to create the schema explicitly, then have a loop that goes through all the rows of the data frames to insert the data into their respective tables. I chose to use the `pd.DataFrame.to_sql()` here because it's so convenient. For the assignment, I actually ended up using the SQLite DB Browser GUI to modify the schema and define primary keys just for convenience's sake.\n",
    "\n",
    "### Importing data into a SQL server\n",
    "It's really easy to import a dataframe to a SQL database. Just use `.to_sql()` on any pandas.DataFrame."
   ]
  },
  {
   "cell_type": "code",
   "execution_count": 5,
   "metadata": {},
   "outputs": [
    {
     "name": "stdout",
     "output_type": "stream",
     "text": [
      "Database successfully created\n"
     ]
    }
   ],
   "source": [
    "# Write data to SQL\n",
    "boran_df.to_sql(\"boran\", conn, if_exists='replace')\n",
    "radan_df.to_sql(\"radan\", conn, if_exists='replace')\n",
    "deidentify_df.to_sql(\"deidentify\", conn, if_exists='replace')\n",
    "print(\"Database successfully created\")"
   ]
  },
  {
   "cell_type": "markdown",
   "metadata": {},
   "source": [
    "### Raw SQL commands\n",
    "You can run any valid raw SQL command that you want using SQL Alchemy. For tidiness' sake, I like to save the commands as their own variables. For complex/dynamic SQL commands, I like to make functions that return the SQL command text when called."
   ]
  },
  {
   "cell_type": "code",
   "execution_count": 6,
   "metadata": {},
   "outputs": [],
   "source": [
    "# These are the SQL commands I'd like to execute to create the full table of data\n",
    "drop_if_exists = \"DROP TABLE IF EXISTS full_data;\"\n",
    "\n",
    "create_table = \"\"\"CREATE TABLE full_data(\n",
    "    patient_id INTEGER PRIMARY KEY\n",
    "    , age FLOAT\n",
    "    , blood_pressure FLOAT\n",
    "    , exercise FLOAT\n",
    "    , weight FLOAT\n",
    "    , glucose FLOAT\n",
    "    , BMI FLOAT\n",
    "    , planet_id INTEGER\n",
    ");\"\"\"\n",
    "\n",
    "populate_table = \"\"\"INSERT INTO full_data\n",
    "SELECT d.patient_id, d.age, b.blood_pressure, b.exercise, b.weight, b.glucose, b.bmi, b.planet_id\n",
    "FROM deidentify as d\n",
    "JOIN boran as b\n",
    "ON d.patient_id = b.patient_id\n",
    "UNION\n",
    "SELECT d.patient_id, d.age, r.blood_pressure, r.exercise, r.weight, r.glucose, r.bmi, r.planet_id\n",
    "FROM deidentify as d\n",
    "JOIN radan as r\n",
    "ON d.patient_id = r.patient_id;\"\"\""
   ]
  },
  {
   "cell_type": "code",
   "execution_count": 7,
   "metadata": {},
   "outputs": [
    {
     "data": {
      "text/plain": [
       "<sqlalchemy.engine.result.ResultProxy at 0x19f99f1ebb0>"
      ]
     },
     "execution_count": 7,
     "metadata": {},
     "output_type": "execute_result"
    }
   ],
   "source": [
    "# Running raw SQL code is this simple\n",
    "conn.execute(drop_if_exists)\n",
    "conn.execute(create_table)\n",
    "conn.execute(populate_table)"
   ]
  },
  {
   "cell_type": "markdown",
   "metadata": {},
   "source": [
    "### Getting the data into pandas"
   ]
  },
  {
   "cell_type": "code",
   "execution_count": 8,
   "metadata": {},
   "outputs": [
    {
     "data": {
      "text/html": [
       "<div>\n",
       "<style scoped>\n",
       "    .dataframe tbody tr th:only-of-type {\n",
       "        vertical-align: middle;\n",
       "    }\n",
       "\n",
       "    .dataframe tbody tr th {\n",
       "        vertical-align: top;\n",
       "    }\n",
       "\n",
       "    .dataframe thead th {\n",
       "        text-align: right;\n",
       "    }\n",
       "</style>\n",
       "<table border=\"1\" class=\"dataframe\">\n",
       "  <thead>\n",
       "    <tr style=\"text-align: right;\">\n",
       "      <th></th>\n",
       "      <th>patient_id</th>\n",
       "      <th>age</th>\n",
       "      <th>blood_pressure</th>\n",
       "      <th>exercise</th>\n",
       "      <th>weight</th>\n",
       "      <th>glucose</th>\n",
       "      <th>BMI</th>\n",
       "      <th>planet_id</th>\n",
       "    </tr>\n",
       "  </thead>\n",
       "  <tbody>\n",
       "    <tr>\n",
       "      <th>0</th>\n",
       "      <td>5231</td>\n",
       "      <td>75.254768</td>\n",
       "      <td>194.639537</td>\n",
       "      <td>45.811801</td>\n",
       "      <td>145.294390</td>\n",
       "      <td>122.231550</td>\n",
       "      <td>1.005604</td>\n",
       "      <td>1</td>\n",
       "    </tr>\n",
       "    <tr>\n",
       "      <th>1</th>\n",
       "      <td>5502</td>\n",
       "      <td>78.425828</td>\n",
       "      <td>102.743158</td>\n",
       "      <td>43.031599</td>\n",
       "      <td>81.072209</td>\n",
       "      <td>77.593129</td>\n",
       "      <td>0.984347</td>\n",
       "      <td>2</td>\n",
       "    </tr>\n",
       "    <tr>\n",
       "      <th>2</th>\n",
       "      <td>8248</td>\n",
       "      <td>74.242965</td>\n",
       "      <td>189.628666</td>\n",
       "      <td>90.167716</td>\n",
       "      <td>139.689556</td>\n",
       "      <td>118.206986</td>\n",
       "      <td>0.972132</td>\n",
       "      <td>1</td>\n",
       "    </tr>\n",
       "    <tr>\n",
       "      <th>3</th>\n",
       "      <td>8495</td>\n",
       "      <td>79.982882</td>\n",
       "      <td>101.532439</td>\n",
       "      <td>84.264034</td>\n",
       "      <td>77.931413</td>\n",
       "      <td>75.550277</td>\n",
       "      <td>0.963410</td>\n",
       "      <td>2</td>\n",
       "    </tr>\n",
       "    <tr>\n",
       "      <th>4</th>\n",
       "      <td>8499</td>\n",
       "      <td>85.809577</td>\n",
       "      <td>104.635367</td>\n",
       "      <td>75.525589</td>\n",
       "      <td>82.481703</td>\n",
       "      <td>79.318150</td>\n",
       "      <td>1.021250</td>\n",
       "      <td>2</td>\n",
       "    </tr>\n",
       "  </tbody>\n",
       "</table>\n",
       "</div>"
      ],
      "text/plain": [
       "   patient_id        age  blood_pressure   exercise      weight     glucose  \\\n",
       "0        5231  75.254768      194.639537  45.811801  145.294390  122.231550   \n",
       "1        5502  78.425828      102.743158  43.031599   81.072209   77.593129   \n",
       "2        8248  74.242965      189.628666  90.167716  139.689556  118.206986   \n",
       "3        8495  79.982882      101.532439  84.264034   77.931413   75.550277   \n",
       "4        8499  85.809577      104.635367  75.525589   82.481703   79.318150   \n",
       "\n",
       "        BMI  planet_id  \n",
       "0  1.005604          1  \n",
       "1  0.984347          2  \n",
       "2  0.972132          1  \n",
       "3  0.963410          2  \n",
       "4  1.021250          2  "
      ]
     },
     "execution_count": 8,
     "metadata": {},
     "output_type": "execute_result"
    }
   ],
   "source": [
    "# This is how we can read data into Pandas directly from a SQL server\n",
    "df = pd.read_sql_table('full_data', conn)\n",
    "df.head()"
   ]
  },
  {
   "cell_type": "code",
   "execution_count": 9,
   "metadata": {},
   "outputs": [],
   "source": [
    "engine.dispose() # This closes the database connection"
   ]
  }
 ],
 "metadata": {
  "kernelspec": {
   "display_name": "Python 3",
   "language": "python",
   "name": "python3"
  },
  "language_info": {
   "codemirror_mode": {
    "name": "ipython",
    "version": 3
   },
   "file_extension": ".py",
   "mimetype": "text/x-python",
   "name": "python",
   "nbconvert_exporter": "python",
   "pygments_lexer": "ipython3",
   "version": "3.8.3"
  }
 },
 "nbformat": 4,
 "nbformat_minor": 4
}

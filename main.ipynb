{
 "cells": [
  {
   "cell_type": "code",
   "execution_count": 1,
   "metadata": {},
   "outputs": [],
   "source": [
    "# dependencies\n",
    "from pathlib import Path\n",
    "import pandas as pd\n",
    "import seaborn as sns\n",
    "import numpy as np"
   ]
  },
  {
   "cell_type": "code",
   "execution_count": 2,
   "metadata": {},
   "outputs": [],
   "source": [
    "# file paths\n",
    "full_dataPath = Path(\"./resources/full_data.csv\")"
   ]
  },
  {
   "cell_type": "code",
   "execution_count": 3,
   "metadata": {},
   "outputs": [
    {
     "data": {
      "text/html": [
       "<div>\n",
       "<style scoped>\n",
       "    .dataframe tbody tr th:only-of-type {\n",
       "        vertical-align: middle;\n",
       "    }\n",
       "\n",
       "    .dataframe tbody tr th {\n",
       "        vertical-align: top;\n",
       "    }\n",
       "\n",
       "    .dataframe thead th {\n",
       "        text-align: right;\n",
       "    }\n",
       "</style>\n",
       "<table border=\"1\" class=\"dataframe\">\n",
       "  <thead>\n",
       "    <tr style=\"text-align: right;\">\n",
       "      <th></th>\n",
       "      <th>age</th>\n",
       "      <th>blood_pressure</th>\n",
       "      <th>exercise</th>\n",
       "      <th>weight</th>\n",
       "      <th>glucose</th>\n",
       "      <th>BMI</th>\n",
       "      <th>planet_id</th>\n",
       "    </tr>\n",
       "    <tr>\n",
       "      <th>patient_id</th>\n",
       "      <th></th>\n",
       "      <th></th>\n",
       "      <th></th>\n",
       "      <th></th>\n",
       "      <th></th>\n",
       "      <th></th>\n",
       "      <th></th>\n",
       "    </tr>\n",
       "  </thead>\n",
       "  <tbody>\n",
       "    <tr>\n",
       "      <th>5231</th>\n",
       "      <td>75.254768</td>\n",
       "      <td>194.639537</td>\n",
       "      <td>45.811801</td>\n",
       "      <td>145.294390</td>\n",
       "      <td>122.231550</td>\n",
       "      <td>1.005604</td>\n",
       "      <td>Boran</td>\n",
       "    </tr>\n",
       "    <tr>\n",
       "      <th>5502</th>\n",
       "      <td>78.425828</td>\n",
       "      <td>102.743158</td>\n",
       "      <td>43.031599</td>\n",
       "      <td>81.072209</td>\n",
       "      <td>77.593129</td>\n",
       "      <td>0.984347</td>\n",
       "      <td>Radan</td>\n",
       "    </tr>\n",
       "    <tr>\n",
       "      <th>8248</th>\n",
       "      <td>74.242965</td>\n",
       "      <td>189.628666</td>\n",
       "      <td>90.167716</td>\n",
       "      <td>139.689556</td>\n",
       "      <td>118.206986</td>\n",
       "      <td>0.972132</td>\n",
       "      <td>Boran</td>\n",
       "    </tr>\n",
       "    <tr>\n",
       "      <th>8495</th>\n",
       "      <td>79.982882</td>\n",
       "      <td>101.532439</td>\n",
       "      <td>84.264034</td>\n",
       "      <td>77.931413</td>\n",
       "      <td>75.550277</td>\n",
       "      <td>0.963410</td>\n",
       "      <td>Radan</td>\n",
       "    </tr>\n",
       "    <tr>\n",
       "      <th>8499</th>\n",
       "      <td>85.809577</td>\n",
       "      <td>104.635367</td>\n",
       "      <td>75.525589</td>\n",
       "      <td>82.481703</td>\n",
       "      <td>79.318150</td>\n",
       "      <td>1.021250</td>\n",
       "      <td>Radan</td>\n",
       "    </tr>\n",
       "  </tbody>\n",
       "</table>\n",
       "</div>"
      ],
      "text/plain": [
       "                  age  blood_pressure   exercise      weight     glucose  \\\n",
       "patient_id                                                                 \n",
       "5231        75.254768      194.639537  45.811801  145.294390  122.231550   \n",
       "5502        78.425828      102.743158  43.031599   81.072209   77.593129   \n",
       "8248        74.242965      189.628666  90.167716  139.689556  118.206986   \n",
       "8495        79.982882      101.532439  84.264034   77.931413   75.550277   \n",
       "8499        85.809577      104.635367  75.525589   82.481703   79.318150   \n",
       "\n",
       "                 BMI planet_id  \n",
       "patient_id                      \n",
       "5231        1.005604     Boran  \n",
       "5502        0.984347     Radan  \n",
       "8248        0.972132     Boran  \n",
       "8495        0.963410     Radan  \n",
       "8499        1.021250     Radan  "
      ]
     },
     "execution_count": 3,
     "metadata": {},
     "output_type": "execute_result"
    }
   ],
   "source": [
    "# data import\n",
    "df = pd.read_csv(full_dataPath).set_index('patient_id')\n",
    "df['planet_id'] = df['planet_id'].replace({1:'Boran',2:'Radan'})\n",
    "df.head()"
   ]
  },
  {
   "cell_type": "markdown",
   "metadata": {},
   "source": [
    "### Histogram of age distribution on each planet.\n",
    "More information on how this plot was made can be found here: https://seaborn.pydata.org/tutorial/distributions.html"
   ]
  },
  {
   "cell_type": "code",
   "execution_count": 4,
   "metadata": {},
   "outputs": [
    {
     "data": {
      "text/plain": [
       "<seaborn.axisgrid.FacetGrid at 0x1e8a1264a00>"
      ]
     },
     "execution_count": 4,
     "metadata": {},
     "output_type": "execute_result"
    },
    {
     "data": {
      "image/png": "[encoded data removed]",
      "text/plain": [
       "<Figure size 427.625x360 with 1 Axes>"
      ]
     },
     "metadata": {
      "needs_background": "light"
     },
     "output_type": "display_data"
    }
   ],
   "source": [
    "sns.displot(df, x='age', binwidth=2.5, hue='planet_id', element=\"step\", multiple=\"dodge\")"
   ]
  },
  {
   "cell_type": "code",
   "execution_count": 10,
   "metadata": {},
   "outputs": [
    {
     "data": {
      "text/plain": [
       "<seaborn.axisgrid.FacetGrid at 0x1e8a334fee0>"
      ]
     },
     "execution_count": 10,
     "metadata": {},
     "output_type": "execute_result"
    },
    {
     "data": {
      "image/png": "[encoded data removed]",
      "text/plain": [
       "<Figure size 576x288 with 2 Axes>"
      ]
     },
     "metadata": {
      "needs_background": "light"
     },
     "output_type": "display_data"
    }
   ],
   "source": [
    "# Average value by planet for age\n",
    "df_mean = df.groupby('planet_id').agg(np.mean)\n",
    "\n",
    "# Function to check if patient's age is over or under life expectancy\n",
    "def life_expectancy_check(age, planet_id):\n",
    "    life_expectancy = df_mean['age'][planet_id]\n",
    "    if age >= life_expectancy:\n",
    "        return 1\n",
    "    else:\n",
    "        return 0\n",
    "\n",
    "# Create new binary column to store whether or not patient exceeded average age\n",
    "df['over_life_expectancy'] = df.apply(lambda x: life_expectancy_check(x['age'], x['planet_id']), axis=1)\n",
    "\n",
    "g = sns.FacetGrid(df, col=\"planet_id\", hue=\"over_life_expectancy\", height=4)\n",
    "g.map(sns.histplot, 'age', binwidth=2)"
   ]
  },
  {
   "cell_type": "code",
   "execution_count": 12,
   "metadata": {},
   "outputs": [
    {
     "data": {
      "text/html": [
       "<div>\n",
       "<style scoped>\n",
       "    .dataframe tbody tr th:only-of-type {\n",
       "        vertical-align: middle;\n",
       "    }\n",
       "\n",
       "    .dataframe tbody tr th {\n",
       "        vertical-align: top;\n",
       "    }\n",
       "\n",
       "    .dataframe thead th {\n",
       "        text-align: right;\n",
       "    }\n",
       "</style>\n",
       "<table border=\"1\" class=\"dataframe\">\n",
       "  <thead>\n",
       "    <tr style=\"text-align: right;\">\n",
       "      <th></th>\n",
       "      <th>over_life_expectancy</th>\n",
       "      <th>planet_id</th>\n",
       "    </tr>\n",
       "    <tr>\n",
       "      <th>patient_id</th>\n",
       "      <th></th>\n",
       "      <th></th>\n",
       "    </tr>\n",
       "  </thead>\n",
       "  <tbody>\n",
       "    <tr>\n",
       "      <th>5231</th>\n",
       "      <td>0</td>\n",
       "      <td>Boran</td>\n",
       "    </tr>\n",
       "    <tr>\n",
       "      <th>5502</th>\n",
       "      <td>0</td>\n",
       "      <td>Radan</td>\n",
       "    </tr>\n",
       "    <tr>\n",
       "      <th>8248</th>\n",
       "      <td>0</td>\n",
       "      <td>Boran</td>\n",
       "    </tr>\n",
       "    <tr>\n",
       "      <th>8495</th>\n",
       "      <td>0</td>\n",
       "      <td>Radan</td>\n",
       "    </tr>\n",
       "    <tr>\n",
       "      <th>8499</th>\n",
       "      <td>1</td>\n",
       "      <td>Radan</td>\n",
       "    </tr>\n",
       "  </tbody>\n",
       "</table>\n",
       "</div>"
      ],
      "text/plain": [
       "            over_life_expectancy planet_id\n",
       "patient_id                                \n",
       "5231                           0     Boran\n",
       "5502                           0     Radan\n",
       "8248                           0     Boran\n",
       "8495                           0     Radan\n",
       "8499                           1     Radan"
      ]
     },
     "execution_count": 12,
     "metadata": {},
     "output_type": "execute_result"
    }
   ],
   "source": [
    "df[['over_life_expectancy','planet_id']].head()"
   ]
  },
  {
   "cell_type": "code",
   "execution_count": 6,
   "metadata": {},
   "outputs": [
    {
     "data": {
      "text/html": [
       "<div>\n",
       "<style scoped>\n",
       "    .dataframe tbody tr th:only-of-type {\n",
       "        vertical-align: middle;\n",
       "    }\n",
       "\n",
       "    .dataframe tbody tr th {\n",
       "        vertical-align: top;\n",
       "    }\n",
       "\n",
       "    .dataframe thead th {\n",
       "        text-align: right;\n",
       "    }\n",
       "</style>\n",
       "<table border=\"1\" class=\"dataframe\">\n",
       "  <thead>\n",
       "    <tr style=\"text-align: right;\">\n",
       "      <th>over_life_expectancy</th>\n",
       "      <th>0</th>\n",
       "      <th>1</th>\n",
       "    </tr>\n",
       "    <tr>\n",
       "      <th>planet_id</th>\n",
       "      <th></th>\n",
       "      <th></th>\n",
       "    </tr>\n",
       "  </thead>\n",
       "  <tbody>\n",
       "    <tr>\n",
       "      <th>Boran</th>\n",
       "      <td>15</td>\n",
       "      <td>15</td>\n",
       "    </tr>\n",
       "    <tr>\n",
       "      <th>Radan</th>\n",
       "      <td>17</td>\n",
       "      <td>13</td>\n",
       "    </tr>\n",
       "  </tbody>\n",
       "</table>\n",
       "</div>"
      ],
      "text/plain": [
       "over_life_expectancy   0   1\n",
       "planet_id                   \n",
       "Boran                 15  15\n",
       "Radan                 17  13"
      ]
     },
     "execution_count": 6,
     "metadata": {},
     "output_type": "execute_result"
    }
   ],
   "source": [
    "df_life_expectancy = df[['planet_id', 'over_life_expectancy']].pivot_table(index='planet_id',\n",
    "                                                                           columns='over_life_expectancy',\n",
    "                                                                           aggfunc='size')\n",
    "df_life_expectancy"
   ]
  },
  {
   "cell_type": "markdown",
   "metadata": {},
   "source": [
    "The mean life expectancy, assuming that the 'age' column corresponds to the age of each patient's death, is 76.42 years on Boran and 84.22 years on Radan."
   ]
  },
  {
   "cell_type": "markdown",
   "metadata": {},
   "source": [
    "### Blood pressure boxplot\n",
    "There must be some strong gravity or terrible diets on Boran. The distribution of blood pressures is much larger on Boran, but that makes sense given how much higher the mean blood pressure is. Neither planet had any notable outliers."
   ]
  },
  {
   "cell_type": "code",
   "execution_count": 7,
   "metadata": {},
   "outputs": [
    {
     "data": {
      "text/plain": [
       "<matplotlib.axes._subplots.AxesSubplot at 0x1e8a35d9af0>"
      ]
     },
     "execution_count": 7,
     "metadata": {},
     "output_type": "execute_result"
    },
    {
     "data": {
      "image/png": "[encoded data removed]",
      "text/plain": [
       "<Figure size 432x288 with 1 Axes>"
      ]
     },
     "metadata": {
      "needs_background": "light"
     },
     "output_type": "display_data"
    }
   ],
   "source": [
    "sns.boxplot(x='planet_id', y='blood_pressure', data=df)"
   ]
  },
  {
   "cell_type": "markdown",
   "metadata": {},
   "source": [
    "Because the mean blood pressure on Boran is almost double the mean blood pressure on Radan, this graph is basically meaningless. It's impossible to tell how these distributions compare. I want to transform the graph so that the box plots show the relative distribution of each planet, with their means. I will create a `blood_pressure_dev` attribute that measures how many standard deviations from the blood pressure mean each point is. I'll then plot the new column with both box plots, and smoothed kde."
   ]
  },
  {
   "cell_type": "code",
   "execution_count": 9,
   "metadata": {},
   "outputs": [
    {
     "data": {
      "text/html": [
       "<div>\n",
       "<style scoped>\n",
       "    .dataframe tbody tr th:only-of-type {\n",
       "        vertical-align: middle;\n",
       "    }\n",
       "\n",
       "    .dataframe tbody tr th {\n",
       "        vertical-align: top;\n",
       "    }\n",
       "\n",
       "    .dataframe thead th {\n",
       "        text-align: right;\n",
       "    }\n",
       "</style>\n",
       "<table border=\"1\" class=\"dataframe\">\n",
       "  <thead>\n",
       "    <tr style=\"text-align: right;\">\n",
       "      <th></th>\n",
       "      <th>blood_pressure_dev</th>\n",
       "      <th>planet_id</th>\n",
       "    </tr>\n",
       "    <tr>\n",
       "      <th>patient_id</th>\n",
       "      <th></th>\n",
       "      <th></th>\n",
       "    </tr>\n",
       "  </thead>\n",
       "  <tbody>\n",
       "    <tr>\n",
       "      <th>5231</th>\n",
       "      <td>0.093717</td>\n",
       "      <td>Boran</td>\n",
       "    </tr>\n",
       "    <tr>\n",
       "      <th>5502</th>\n",
       "      <td>-0.173020</td>\n",
       "      <td>Radan</td>\n",
       "    </tr>\n",
       "    <tr>\n",
       "      <th>8248</th>\n",
       "      <td>-0.372636</td>\n",
       "      <td>Boran</td>\n",
       "    </tr>\n",
       "    <tr>\n",
       "      <th>8495</th>\n",
       "      <td>-0.456428</td>\n",
       "      <td>Radan</td>\n",
       "    </tr>\n",
       "    <tr>\n",
       "      <th>8499</th>\n",
       "      <td>0.269913</td>\n",
       "      <td>Radan</td>\n",
       "    </tr>\n",
       "  </tbody>\n",
       "</table>\n",
       "</div>"
      ],
      "text/plain": [
       "            blood_pressure_dev planet_id\n",
       "patient_id                              \n",
       "5231                  0.093717     Boran\n",
       "5502                 -0.173020     Radan\n",
       "8248                 -0.372636     Boran\n",
       "8495                 -0.456428     Radan\n",
       "8499                  0.269913     Radan"
      ]
     },
     "execution_count": 9,
     "metadata": {},
     "output_type": "execute_result"
    }
   ],
   "source": [
    "# Data frame to hold standard deviations\n",
    "df_std_dev = df.groupby('planet_id').agg(np.std)\n",
    "\n",
    "# Function to check if patient's age is over or under life expectancy\n",
    "def bp_dev(bp, planet_id):\n",
    "    std_dev = df_std_dev['blood_pressure'][planet_id]\n",
    "    bp_mean = df_mean['blood_pressure'][planet_id]\n",
    "    return ((bp-bp_mean)/std_dev)\n",
    "\n",
    "# Create new column\n",
    "df['blood_pressure_dev'] = df.apply(lambda x: bp_dev(x['blood_pressure'], x['planet_id']), axis=1)\n",
    "df[['blood_pressure_dev','planet_id']].head()"
   ]
  },
  {
   "cell_type": "code",
   "execution_count": null,
   "metadata": {},
   "outputs": [],
   "source": [
    "g = sns.boxplot(y='planet_id', x='blood_pressure_dev', orient='h', data=df)"
   ]
  },
  {
   "cell_type": "code",
   "execution_count": null,
   "metadata": {},
   "outputs": [],
   "source": [
    "sns.kdeplot(data=df, x=\"blood_pressure_dev\", hue=\"planet_id\")"
   ]
  },
  {
   "cell_type": "markdown",
   "metadata": {},
   "source": [
    "### Blood Pressure scatterplots\n",
    "Blood pressure has really strong correlations between weight, glucose and BMI. There's clear colinearity. There's a weaker correlation with age, but it's still visible. The data is much noisier for exercise."
   ]
  },
  {
   "cell_type": "code",
   "execution_count": null,
   "metadata": {},
   "outputs": [],
   "source": [
    "g = sns.PairGrid(data=df, y_vars=[\"blood_pressure\"], x_vars=[\"age\",\"exercise\"], hue=\"planet_id\", height=4)\n",
    "g.map(sns.scatterplot)"
   ]
  },
  {
   "cell_type": "code",
   "execution_count": null,
   "metadata": {},
   "outputs": [],
   "source": [
    "g = sns.PairGrid(data=df, y_vars=[\"blood_pressure\"], x_vars=[\"weight\",\"glucose\",\"BMI\"], hue=\"planet_id\", height=4)\n",
    "g.map(sns.scatterplot)"
   ]
  },
  {
   "cell_type": "markdown",
   "metadata": {},
   "source": [
    "One thing I like to do when I'm exploring data with relatively small dimensionality is look at how all the variables affect all the other variables. It's a just a quick way to get oriented and see if anything catches my attention."
   ]
  },
  {
   "cell_type": "code",
   "execution_count": null,
   "metadata": {},
   "outputs": [],
   "source": [
    "df = df.drop(columns=['blood_pressure_dev','over_life_expectancy'])\n",
    "sns.pairplot(df, hue=\"planet_id\")"
   ]
  },
  {
   "cell_type": "code",
   "execution_count": null,
   "metadata": {},
   "outputs": [],
   "source": []
  }
 ],
 "metadata": {
  "kernelspec": {
   "display_name": "Python 3",
   "language": "python",
   "name": "python3"
  },
  "language_info": {
   "codemirror_mode": {
    "name": "ipython",
    "version": 3
   },
   "file_extension": ".py",
   "mimetype": "text/x-python",
   "name": "python",
   "nbconvert_exporter": "python",
   "pygments_lexer": "ipython3",
   "version": "3.8.3"
  }
 },
 "nbformat": 4,
 "nbformat_minor": 4
}

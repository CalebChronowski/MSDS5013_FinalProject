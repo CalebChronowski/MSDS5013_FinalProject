{
 "cells": [
  {
   "cell_type": "code",
   "execution_count": 1,
   "metadata": {},
   "outputs": [],
   "source": [
    "# dependencies\n",
    "from pathlib import Path\n",
    "import pandas as pd\n",
    "import seaborn as sns\n",
    "import numpy as np"
   ]
  },
  {
   "cell_type": "code",
   "execution_count": 2,
   "metadata": {},
   "outputs": [],
   "source": [
    "# file paths\n",
    "full_dataPath = Path(\"./resources/full_data.csv\")"
   ]
  },
  {
   "cell_type": "code",
   "execution_count": 3,
   "metadata": {},
   "outputs": [
    {
     "data": {
      "text/html": [
       "<div>\n",
       "<style scoped>\n",
       "    .dataframe tbody tr th:only-of-type {\n",
       "        vertical-align: middle;\n",
       "    }\n",
       "\n",
       "    .dataframe tbody tr th {\n",
       "        vertical-align: top;\n",
       "    }\n",
       "\n",
       "    .dataframe thead th {\n",
       "        text-align: right;\n",
       "    }\n",
       "</style>\n",
       "<table border=\"1\" class=\"dataframe\">\n",
       "  <thead>\n",
       "    <tr style=\"text-align: right;\">\n",
       "      <th></th>\n",
       "      <th>age</th>\n",
       "      <th>blood_pressure</th>\n",
       "      <th>exercise</th>\n",
       "      <th>weight</th>\n",
       "      <th>glucose</th>\n",
       "      <th>BMI</th>\n",
       "      <th>planet_id</th>\n",
       "    </tr>\n",
       "    <tr>\n",
       "      <th>patient_id</th>\n",
       "      <th></th>\n",
       "      <th></th>\n",
       "      <th></th>\n",
       "      <th></th>\n",
       "      <th></th>\n",
       "      <th></th>\n",
       "      <th></th>\n",
       "    </tr>\n",
       "  </thead>\n",
       "  <tbody>\n",
       "    <tr>\n",
       "      <th>5231</th>\n",
       "      <td>75.254768</td>\n",
       "      <td>194.639537</td>\n",
       "      <td>45.811801</td>\n",
       "      <td>145.294390</td>\n",
       "      <td>122.231550</td>\n",
       "      <td>1.005604</td>\n",
       "      <td>Boran</td>\n",
       "    </tr>\n",
       "    <tr>\n",
       "      <th>5502</th>\n",
       "      <td>78.425828</td>\n",
       "      <td>102.743158</td>\n",
       "      <td>43.031599</td>\n",
       "      <td>81.072209</td>\n",
       "      <td>77.593129</td>\n",
       "      <td>0.984347</td>\n",
       "      <td>Radan</td>\n",
       "    </tr>\n",
       "    <tr>\n",
       "      <th>8248</th>\n",
       "      <td>74.242965</td>\n",
       "      <td>189.628666</td>\n",
       "      <td>90.167716</td>\n",
       "      <td>139.689556</td>\n",
       "      <td>118.206986</td>\n",
       "      <td>0.972132</td>\n",
       "      <td>Boran</td>\n",
       "    </tr>\n",
       "    <tr>\n",
       "      <th>8495</th>\n",
       "      <td>79.982882</td>\n",
       "      <td>101.532439</td>\n",
       "      <td>84.264034</td>\n",
       "      <td>77.931413</td>\n",
       "      <td>75.550277</td>\n",
       "      <td>0.963410</td>\n",
       "      <td>Radan</td>\n",
       "    </tr>\n",
       "    <tr>\n",
       "      <th>8499</th>\n",
       "      <td>85.809577</td>\n",
       "      <td>104.635367</td>\n",
       "      <td>75.525589</td>\n",
       "      <td>82.481703</td>\n",
       "      <td>79.318150</td>\n",
       "      <td>1.021250</td>\n",
       "      <td>Radan</td>\n",
       "    </tr>\n",
       "  </tbody>\n",
       "</table>\n",
       "</div>"
      ],
      "text/plain": [
       "                  age  blood_pressure   exercise      weight     glucose  \\\n",
       "patient_id                                                                 \n",
       "5231        75.254768      194.639537  45.811801  145.294390  122.231550   \n",
       "5502        78.425828      102.743158  43.031599   81.072209   77.593129   \n",
       "8248        74.242965      189.628666  90.167716  139.689556  118.206986   \n",
       "8495        79.982882      101.532439  84.264034   77.931413   75.550277   \n",
       "8499        85.809577      104.635367  75.525589   82.481703   79.318150   \n",
       "\n",
       "                 BMI planet_id  \n",
       "patient_id                      \n",
       "5231        1.005604     Boran  \n",
       "5502        0.984347     Radan  \n",
       "8248        0.972132     Boran  \n",
       "8495        0.963410     Radan  \n",
       "8499        1.021250     Radan  "
      ]
     },
     "execution_count": 3,
     "metadata": {},
     "output_type": "execute_result"
    }
   ],
   "source": [
    "# data import\n",
    "df = pd.read_csv(full_dataPath).set_index('patient_id')\n",
    "df['planet_id'] = df['planet_id'].replace({1:'Boran',2:'Radan'})\n",
    "df.head()"
   ]
  },
  {
   "cell_type": "markdown",
   "metadata": {},
   "source": [
    "### Histogram of age distribution on each planet.\n",
    "More information on how this plot was made can be found here: https://seaborn.pydata.org/tutorial/distributions.html"
   ]
  },
  {
   "cell_type": "code",
   "execution_count": 4,
   "metadata": {},
   "outputs": [
    {
     "data": {
      "text/plain": [
       "<seaborn.axisgrid.FacetGrid at 0x27e8e3d0790>"
      ]
     },
     "execution_count": 4,
     "metadata": {},
     "output_type": "execute_result"
    },
    {
     "data": {
      "image/png": "[encoded data removed]",
      "text/plain": [
       "<Figure size 427.625x360 with 1 Axes>"
      ]
     },
     "metadata": {
      "needs_background": "light"
     },
     "output_type": "display_data"
    }
   ],
   "source": [
    "sns.displot(df, x='age', binwidth=2.5, hue='planet_id', element=\"step\", multiple=\"dodge\")"
   ]
  },
  {
   "cell_type": "code",
   "execution_count": 5,
   "metadata": {},
   "outputs": [
    {
     "data": {
      "text/html": [
       "<div>\n",
       "<style scoped>\n",
       "    .dataframe tbody tr th:only-of-type {\n",
       "        vertical-align: middle;\n",
       "    }\n",
       "\n",
       "    .dataframe tbody tr th {\n",
       "        vertical-align: top;\n",
       "    }\n",
       "\n",
       "    .dataframe thead th {\n",
       "        text-align: right;\n",
       "    }\n",
       "</style>\n",
       "<table border=\"1\" class=\"dataframe\">\n",
       "  <thead>\n",
       "    <tr style=\"text-align: right;\">\n",
       "      <th></th>\n",
       "      <th>BMI</th>\n",
       "      <th>age</th>\n",
       "      <th>blood_pressure</th>\n",
       "      <th>exercise</th>\n",
       "      <th>glucose</th>\n",
       "      <th>weight</th>\n",
       "    </tr>\n",
       "    <tr>\n",
       "      <th>planet_id</th>\n",
       "      <th></th>\n",
       "      <th></th>\n",
       "      <th></th>\n",
       "      <th></th>\n",
       "      <th></th>\n",
       "      <th></th>\n",
       "    </tr>\n",
       "  </thead>\n",
       "  <tbody>\n",
       "    <tr>\n",
       "      <th>Boran</th>\n",
       "      <td>1.0</td>\n",
       "      <td>76.419431</td>\n",
       "      <td>193.632568</td>\n",
       "      <td>74.090198</td>\n",
       "      <td>121.310649</td>\n",
       "      <td>143.812437</td>\n",
       "    </tr>\n",
       "    <tr>\n",
       "      <th>Radan</th>\n",
       "      <td>1.0</td>\n",
       "      <td>84.217069</td>\n",
       "      <td>103.482301</td>\n",
       "      <td>84.427936</td>\n",
       "      <td>77.832362</td>\n",
       "      <td>80.586650</td>\n",
       "    </tr>\n",
       "  </tbody>\n",
       "</table>\n",
       "</div>"
      ],
      "text/plain": [
       "           BMI        age  blood_pressure   exercise     glucose      weight\n",
       "planet_id                                                                   \n",
       "Boran      1.0  76.419431      193.632568  74.090198  121.310649  143.812437\n",
       "Radan      1.0  84.217069      103.482301  84.427936   77.832362   80.586650"
      ]
     },
     "execution_count": 5,
     "metadata": {},
     "output_type": "execute_result"
    }
   ],
   "source": [
    "# Average value by planet for all columns\n",
    "df_mean = pd.pivot_table(df, index='planet_id', aggfunc=np.mean)\n",
    "df_mean.head()"
   ]
  },
  {
   "cell_type": "markdown",
   "metadata": {},
   "source": [
    "The mean life expectancy, assuming that the age column is the age of each patients death, is 76.42 years on Boran and 84.22 years on Radan. By definition, the liklihood of living past the average life expectancy will always be 50%."
   ]
  },
  {
   "cell_type": "markdown",
   "metadata": {},
   "source": [
    "### Blood pressure boxplot\n",
    "There must be some strong gravity or terrible diets on Boran. The distribution of blood pressures is much larger on Boran, but that makes sense given how much higher the mean blood pressure is. Neither planet had any notable outliers."
   ]
  },
  {
   "cell_type": "code",
   "execution_count": 6,
   "metadata": {},
   "outputs": [
    {
     "data": {
      "text/plain": [
       "<matplotlib.axes._subplots.AxesSubplot at 0x27e904b73a0>"
      ]
     },
     "execution_count": 6,
     "metadata": {},
     "output_type": "execute_result"
    },
    {
     "data": {
      "image/png": "[encoded data removed]",
      "text/plain": [
       "<Figure size 432x288 with 1 Axes>"
      ]
     },
     "metadata": {
      "needs_background": "light"
     },
     "output_type": "display_data"
    }
   ],
   "source": [
    "sns.boxplot(x='planet_id', y='blood_pressure', data=df)"
   ]
  },
  {
   "cell_type": "markdown",
   "metadata": {},
   "source": [
    "### Blood Pressure scatterplots\n",
    "Blood pressure has really strong correlations between weight, glucose and BMI. There's clear colinearity. There's a weaker correlation The data is much noisier for exercise"
   ]
  },
  {
   "cell_type": "code",
   "execution_count": 7,
   "metadata": {},
   "outputs": [
    {
     "data": {
      "text/plain": [
       "<seaborn.axisgrid.PairGrid at 0x27e9071bc70>"
      ]
     },
     "execution_count": 7,
     "metadata": {},
     "output_type": "execute_result"
    },
    {
     "data": {
      "image/png": "[encoded data removed]",
      "text/plain": [
       "<Figure size 1440x288 with 5 Axes>"
      ]
     },
     "metadata": {
      "needs_background": "light"
     },
     "output_type": "display_data"
    }
   ],
   "source": [
    "g = sns.PairGrid(data=df,\n",
    "                 y_vars=[\"blood_pressure\"], \n",
    "                 x_vars=[\"age\",\"exercise\",\"weight\",\"glucose\",\"BMI\"], \n",
    "                 hue=\"planet_id\",\n",
    "                 height=4)\n",
    "g.map(sns.scatterplot)"
   ]
  },
  {
   "cell_type": "code",
   "execution_count": null,
   "metadata": {},
   "outputs": [],
   "source": []
  }
 ],
 "metadata": {
  "kernelspec": {
   "display_name": "Python 3",
   "language": "python",
   "name": "python3"
  },
  "language_info": {
   "codemirror_mode": {
    "name": "ipython",
    "version": 3
   },
   "file_extension": ".py",
   "mimetype": "text/x-python",
   "name": "python",
   "nbconvert_exporter": "python",
   "pygments_lexer": "ipython3",
   "version": "3.8.3"
  }
 },
 "nbformat": 4,
 "nbformat_minor": 4
}
